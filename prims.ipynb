{
 "cells": [
  {
   "cell_type": "code",
   "execution_count": 1,
   "metadata": {
    "collapsed": true,
    "ExecuteTime": {
     "start_time": "2023-04-19T19:15:15.043002Z",
     "end_time": "2023-04-19T19:15:15.049770Z"
    }
   },
   "outputs": [
    {
     "name": "stdout",
     "output_type": "stream",
     "text": [
      "[[0, 7, 8, 0, 0, 0], [7, 0, 3, 6, 0, 0], [8, 3, 0, 4, 3, 0], [0, 6, 4, 0, 2, 5], [0, 0, 3, 2, 0, 2], [0, 0, 0, 5, 2, 0]]\n"
     ]
    }
   ],
   "source": [
    "class Graph:\n",
    "    def __init__(self, vertices):\n",
    "        self.vertices = vertices\n",
    "        self.graph = [[0] * vertices] * vertices\n",
    "\n",
    "    def displaygraph(self):\n",
    "        print(self.graph)\n",
    "\n",
    "    def prims(self):\n",
    "        lst = []\n",
    "        s = 0\n",
    "        min = 2 ** 63 - 1\n",
    "        for a in range(self.vertices):\n",
    "            for b in range(self.vertices):\n",
    "                if self.graph[a][b] <= min and self.graph[a][b] != 0:\n",
    "                    min = self.graph[a][b]\n",
    "                    x, y = a, b\n",
    "            if [y, x] not in lst:\n",
    "                s += min\n",
    "                lst.append([x, y])\n",
    "                print(x, '--', y, '=', min)\n",
    "        print('cost is',s,'units')\n",
    "\n",
    "g = Graph(6)\n",
    "g.graph = [[0, 7, 8, 0, 0, 0],\n",
    "           [7, 0, 3, 6, 0, 0],\n",
    "           [8, 3, 0, 4, 3, 0],\n",
    "           [0, 6, 4, 0, 2, 5],\n",
    "           [0, 0, 3, 2, 0, 2],\n",
    "           [0, 0, 0, 5, 2, 0]]\n",
    "g.prims()\n"
   ]
  },
  {
   "cell_type": "code",
   "execution_count": 7,
   "outputs": [],
   "source": [
    "lst = [4,8,6,0,8]"
   ],
   "metadata": {
    "collapsed": false,
    "ExecuteTime": {
     "start_time": "2023-04-19T12:24:25.126769Z",
     "end_time": "2023-04-19T12:24:25.138810Z"
    }
   }
  },
  {
   "cell_type": "code",
   "execution_count": 3,
   "outputs": [],
   "source": [],
   "metadata": {
    "collapsed": false,
    "ExecuteTime": {
     "start_time": "2023-04-19T01:20:27.451348Z",
     "end_time": "2023-04-19T01:20:27.455967Z"
    }
   }
  },
  {
   "cell_type": "code",
   "execution_count": 4,
   "outputs": [
    {
     "name": "stdout",
     "output_type": "stream",
     "text": [
      "False\n"
     ]
    }
   ],
   "source": [
    "print(3 in lst)"
   ],
   "metadata": {
    "collapsed": false,
    "ExecuteTime": {
     "start_time": "2023-04-19T01:20:56.788073Z",
     "end_time": "2023-04-19T01:20:56.822165Z"
    }
   }
  },
  {
   "cell_type": "code",
   "execution_count": null,
   "outputs": [],
   "source": [],
   "metadata": {
    "collapsed": false
   }
  }
 ],
 "metadata": {
  "kernelspec": {
   "display_name": "Python 3",
   "language": "python",
   "name": "python3"
  },
  "language_info": {
   "codemirror_mode": {
    "name": "ipython",
    "version": 2
   },
   "file_extension": ".py",
   "mimetype": "text/x-python",
   "name": "python",
   "nbconvert_exporter": "python",
   "pygments_lexer": "ipython2",
   "version": "2.7.6"
  }
 },
 "nbformat": 4,
 "nbformat_minor": 0
}
