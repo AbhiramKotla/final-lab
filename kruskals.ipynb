{
 "cells": [
  {
   "cell_type": "code",
   "execution_count": 18,
   "metadata": {
    "collapsed": true,
    "ExecuteTime": {
     "start_time": "2023-04-18T23:36:40.183615Z",
     "end_time": "2023-04-18T23:36:40.202341Z"
    }
   },
   "outputs": [
    {
     "name": "stdout",
     "output_type": "stream",
     "text": [
      "3 -- 4 = 2\n",
      "4 -- 5 = 2\n",
      "1 -- 2 = 3\n",
      "2 -- 3 = 4\n",
      "0 -- 1 = 7\n"
     ]
    }
   ],
   "source": [
    "import operator\n",
    "\n",
    "\n",
    "class Graph:\n",
    "    def __init__(self, vertices):\n",
    "        self.vertices = vertices\n",
    "        self.graph = [[0] * vertices] * vertices\n",
    "\n",
    "    def displaygraph(self):\n",
    "        print(self.graph)\n",
    "\n",
    "    def cost(self,a,b):\n",
    "        if self.graph[a][b] != 0:\n",
    "            return self.graph[a][b]\n",
    "        return 0\n",
    "    def neighbours(self,x):\n",
    "        lst = []\n",
    "        for i in range(self.vertices):\n",
    "            if self.graph[x][i] != 0:\n",
    "                lst.append(i)\n",
    "        return lst\n",
    "    def cycle(self,a,b,c,d,e,f):\n",
    "        pass\n",
    "\n",
    "    def krukals(self):\n",
    "        weights = {}\n",
    "        visited = []\n",
    "        for a in range(self.vertices):\n",
    "            for b in range(self.vertices):\n",
    "                if self.cost(a,b) != 0 and str(b)+str(a) not in weights.keys():\n",
    "                    weights[str(a)+str(b)] = self.cost(a,b)\n",
    "        import operator\n",
    "        weights = sorted(weights.items(),key=operator.itemgetter(1))\n",
    "        for k in weights:\n",
    "            if k[0][1] not in visited:\n",
    "                print(k[0][0],'--',k[0][1],'=',k[1])\n",
    "                visited.append(k[0][1])\n",
    "\n",
    "\n",
    "g = Graph(6)\n",
    "g.graph = [[0, 7, 8, 0, 0, 0],\n",
    "           [7, 0, 3, 6, 0, 0],\n",
    "           [8, 3, 0, 4, 3, 0],\n",
    "           [0, 6, 4, 0, 2, 5],\n",
    "           [0, 0, 3, 2, 0, 2],\n",
    "           [0, 0, 0, 5, 2, 0]]\n",
    "g.krukals()"
   ]
  },
  {
   "cell_type": "code",
   "execution_count": 17,
   "outputs": [
    {
     "data": {
      "text/plain": "[1, 2]"
     },
     "execution_count": 17,
     "metadata": {},
     "output_type": "execute_result"
    }
   ],
   "source": [
    "g.neighbours(0)"
   ],
   "metadata": {
    "collapsed": false,
    "ExecuteTime": {
     "start_time": "2023-04-18T23:32:34.306979Z",
     "end_time": "2023-04-18T23:32:34.314946Z"
    }
   }
  },
  {
   "cell_type": "code",
   "execution_count": 2,
   "outputs": [],
   "source": [
    "import operator\n",
    "weights ={'01': 7,\n",
    " '02': 8,\n",
    " '12': 3,\n",
    " '13': 6,\n",
    " '23': 4,\n",
    " '24': 3,\n",
    " '34': 2,\n",
    " '35': 5,\n",
    " '45': 2}"
   ],
   "metadata": {
    "collapsed": false,
    "ExecuteTime": {
     "start_time": "2023-04-18T23:01:49.616715Z",
     "end_time": "2023-04-18T23:01:49.620561Z"
    }
   }
  },
  {
   "cell_type": "code",
   "execution_count": 18,
   "outputs": [
    {
     "data": {
      "text/plain": "[('34', 2),\n ('45', 2),\n ('12', 3),\n ('24', 3),\n ('23', 4),\n ('35', 5),\n ('13', 6),\n ('01', 7),\n ('02', 8)]"
     },
     "execution_count": 18,
     "metadata": {},
     "output_type": "execute_result"
    }
   ],
   "source": [
    "sorted(weights.items(),key=operator.itemgetter(1))"
   ],
   "metadata": {
    "collapsed": false,
    "ExecuteTime": {
     "start_time": "2023-04-18T22:57:32.143509Z",
     "end_time": "2023-04-18T22:57:32.151071Z"
    }
   }
  },
  {
   "cell_type": "code",
   "execution_count": null,
   "outputs": [],
   "source": [],
   "metadata": {
    "collapsed": false
   }
  }
 ],
 "metadata": {
  "kernelspec": {
   "display_name": "Python 3",
   "language": "python",
   "name": "python3"
  },
  "language_info": {
   "codemirror_mode": {
    "name": "ipython",
    "version": 2
   },
   "file_extension": ".py",
   "mimetype": "text/x-python",
   "name": "python",
   "nbconvert_exporter": "python",
   "pygments_lexer": "ipython2",
   "version": "2.7.6"
  }
 },
 "nbformat": 4,
 "nbformat_minor": 0
}
